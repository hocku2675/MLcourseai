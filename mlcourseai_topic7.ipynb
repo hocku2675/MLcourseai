{
 "cells": [
  {
   "cell_type": "code",
   "execution_count": 1,
   "id": "ebc21eec-4349-4658-94d6-59c76876bbcd",
   "metadata": {},
   "outputs": [],
   "source": [
    "import os\n",
    "from zipfile import ZipFile\n",
    "from pathlib import Path\n",
    "import requests\n",
    "\n",
    "\n",
    "import numpy as np\n",
    "import pandas as pd\n",
    "import seaborn as sns\n",
    "from tqdm import tqdm_notebook\n",
    "\n",
    "%matplotlib inline\n",
    "from matplotlib import pyplot as plt\n",
    "\n",
    "plt.style.use(\"seaborn-v0_8-darkgrid\")\n",
    "plt.rcParams[\"figure.figsize\"] = (12, 9)\n",
    "plt.rcParams[\"font.family\"] = \"DejaVu Sans\"\n",
    "\n",
    "from sklearn import metrics\n",
    "from sklearn.cluster import AgglomerativeClustering, KMeans, SpectralClustering\n",
    "from sklearn.decomposition import PCA\n",
    "from sklearn.model_selection import GridSearchCV\n",
    "from sklearn.preprocessing import StandardScaler\n",
    "from sklearn.svm import LinearSVC\n",
    "\n",
    "RANDOM_STATE = 17"
   ]
  },
  {
   "cell_type": "code",
   "execution_count": 2,
   "id": "95c55229-0eaa-4b99-9ceb-af0f80f74cee",
   "metadata": {},
   "outputs": [],
   "source": [
    "def load_har_dataset(url, extract_path: Path, filename: str, overwrite=False):\n",
    "    # check if existed already\n",
    "    filepath = extract_path / filename\n",
    "    if filepath.exists() and not overwrite:\n",
    "        print(\"The dataset is already in place.\")\n",
    "        return\n",
    "\n",
    "    print(\"Downloading the dataset from:  \", url)\n",
    "    response = requests.get(url)\n",
    "\n",
    "    with open(filepath, 'wb') as f:\n",
    "        f.write(response.content)\n",
    "\n",
    "    with ZipFile(filepath, 'r') as zipObj:\n",
    "        # Extract all the contents of zip file in current directory\n",
    "        zipObj.extractall(extract_path)"
   ]
  },
  {
   "cell_type": "code",
   "execution_count": null,
   "id": "60952b98-f560-4bbe-ac08-212b5084a035",
   "metadata": {},
   "outputs": [
    {
     "name": "stdout",
     "output_type": "stream",
     "text": [
      "Downloading the dataset from:   https://archive.ics.uci.edu/ml/machine-learning-databases/00240/UCI%20HAR%20Dataset.zip\n"
     ]
    }
   ],
   "source": [
    "FILE_URL = \"https://archive.ics.uci.edu/ml/machine-learning-databases/00240/UCI%20HAR%20Dataset.zip\"\n",
    "FILE_NAME = \"UCI HAR Dataset.zip\"\n",
    "DATA_PATH = Path(\"../../../data/large_files\")\n",
    "\n",
    "load_har_dataset(url=FILE_URL, extract_path=DATA_PATH, filename=FILE_NAME)\n",
    "\n",
    "PATH_TO_SAMSUNG_DATA = DATA_PATH / FILE_NAME.strip('.zip')"
   ]
  },
  {
   "cell_type": "code",
   "execution_count": null,
   "id": "9a329e72-988c-423c-8011-2685bba7b545",
   "metadata": {},
   "outputs": [],
   "source": [
    "X_train = np.loadtxt(PATH_TO_SAMSUNG_DATA / \"train\" / \"X_train.txt\")\n",
    "y_train = np.loadtxt(PATH_TO_SAMSUNG_DATA / \"train\" / \"y_train.txt\").astype(int)\n",
    "\n",
    "X_test = np.loadtxt(PATH_TO_SAMSUNG_DATA / \"test\" / \"X_test.txt\")\n",
    "y_test = np.loadtxt(PATH_TO_SAMSUNG_DATA / \"test\" / \"y_test.txt\").astype(int)"
   ]
  }
 ],
 "metadata": {
  "kernelspec": {
   "display_name": "Python 3 (ipykernel)",
   "language": "python",
   "name": "python3"
  },
  "language_info": {
   "codemirror_mode": {
    "name": "ipython",
    "version": 3
   },
   "file_extension": ".py",
   "mimetype": "text/x-python",
   "name": "python",
   "nbconvert_exporter": "python",
   "pygments_lexer": "ipython3",
   "version": "3.11.1"
  }
 },
 "nbformat": 4,
 "nbformat_minor": 5
}
